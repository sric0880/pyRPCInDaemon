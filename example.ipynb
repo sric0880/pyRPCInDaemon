{
 "cells": [
  {
   "cell_type": "markdown",
   "metadata": {},
   "source": [
    "## Run remote task in deamon "
   ]
  },
  {
   "cell_type": "code",
   "execution_count": null,
   "metadata": {},
   "outputs": [],
   "source": []
  },
  {
   "cell_type": "code",
   "execution_count": null,
   "metadata": {},
   "outputs": [],
   "source": [
    "import rpcindaemon\n",
    "\n",
    "task = rpcindaemon.Task(\n",
    "    0,\n",
    "    \"qc run\",\n",
    "    # \"qc run {self.base_dir}/{strategy.conf_file} -d -f {data} -e\",\n",
    "    '192.168.2.9',\n",
    "    py_env_activate=\"eval \\\"$('/c/ProgramData/Anaconda3/Scripts/conda.exe' 'shell.bash' 'hook')\\\"; conda activate base;\",\n",
    "    username='admin',\n",
    "    password='anjiaofei'\n",
    ")\n",
    "task.run()\n",
    "# task.is_alive()\n",
    "# task.do_rpc()\n",
    "# task.terminate()\n",
    "# task.is_alive()"
   ]
  }
 ],
 "metadata": {
  "kernelspec": {
   "display_name": "base",
   "language": "python",
   "name": "python3"
  },
  "language_info": {
   "codemirror_mode": {
    "name": "ipython",
    "version": 3
   },
   "file_extension": ".py",
   "mimetype": "text/x-python",
   "name": "python",
   "nbconvert_exporter": "python",
   "pygments_lexer": "ipython3",
   "version": "3.9.7"
  }
 },
 "nbformat": 4,
 "nbformat_minor": 2
}
